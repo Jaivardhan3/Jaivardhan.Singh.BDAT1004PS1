{
 "cells": [
  {
   "cell_type": "markdown",
   "id": "b4cec435",
   "metadata": {},
   "source": [
    "# Question 1\n",
    "What data type is each of the following?\n"
   ]
  },
  {
   "cell_type": "markdown",
   "id": "3e07dd9a",
   "metadata": {},
   "source": [
    "| Value   | Data Type        |\n",
    "|:---     |-----------------:|\n",
    "| 5       |int|\n",
    "| 5.0     |float|\n",
    "| 5>1     |boolean|\n",
    "|'5'      |char|\n",
    "| 5*2     |int|\n",
    "|'5'*2    |string|\n",
    "|'5'+'2'  |string|\n",
    "| 5/2     |float|\n",
    "| 5%2     |int|\n",
    "|{5,2,1}  |array|\n",
    "| 5==3    |boolean|\n",
    "|Pi (The Number)|double|"
   ]
  },
  {
   "cell_type": "markdown",
   "id": "bcdf95f6",
   "metadata": {},
   "source": [
    "# Question 2\n",
    "Write (and evaluate) C# expressions that answer these questions:\n",
    "\n",
    "# a. \n",
    "How many letters are there in 'Supercalifragilisticexpialidocious'?"
   ]
  },
  {
   "cell_type": "markdown",
   "id": "0f13d9d9",
   "metadata": {},
   "source": [
    "using System;\n",
    "\n",
    "namespace count_char\n",
    "{\n",
    "    class Program\n",
    "    {\n",
    "        static void Main(string[] args)\n",
    "        {\n",
    "            String str = \"Supercalifragilisticexpialidocious\"; //Taking string//\n",
    "            int count = 0; //declaring a count variable which will store the value of each index number while in loop\n",
    "\n",
    "            //Counts each character except space  \n",
    "            for (int i = 0; i < str.Length; i++)\n",
    "            {\n",
    "                if (str[i] != ' ')//if it's not a space then increment count\n",
    "                    count++;\n",
    "            }\n",
    "\n",
    "            //Displaying the total number of characters present in str \n",
    "            Console.WriteLine($\"Total number of characters in {str} is: \" + count);\n",
    "        }\n",
    "    }\n",
    "}\n",
    "\n",
    "Output:-\n",
    "\n",
    "![image.png](2aoutput.png)\n"
   ]
  },
  {
   "cell_type": "markdown",
   "id": "0b3cc0d7",
   "metadata": {},
   "source": [
    "# b. \n",
    "Does 'Supercalifragilisticexpialidocious' contain 'ice' as a substring?"
   ]
  },
  {
   "cell_type": "markdown",
   "id": "f7a7ec4c",
   "metadata": {},
   "source": [
    "using System;\n",
    "\n",
    "namespace BDAT_1004_Problem_Set_1\n",
    "{\n",
    "    class Program\n",
    "    {\n",
    "        static void Main(string[] args)\n",
    "        {\n",
    "            // storing our strings\n",
    "            String str = \"'Supercalifragilisticexpialidocious\";\n",
    "            String substr = \"ice\";\n",
    "\n",
    "            // using .Contains() Method we can check if ice is a substring or not\n",
    "            // it will return boolean value\n",
    "            Console.WriteLine(str.Contains(substr));\n",
    "        }\n",
    "    }\n",
    "}\n",
    "\n",
    "Output:-\n",
    "![image.png](2boutput.png)\n"
   ]
  },
  {
   "cell_type": "markdown",
   "id": "f8507e12",
   "metadata": {},
   "source": [
    "# c. \n",
    "Which of the following words is the longest: Supercalifragilisticexpialidocious, Honorificabilitudinitatibus, or Bababadalgharaghtakamminarronnkonn?"
   ]
  },
  {
   "cell_type": "markdown",
   "id": "96f39e25",
   "metadata": {},
   "source": [
    "using System;\n",
    "\n",
    "namespace BDAT_1004_Problem_Set_1\n",
    "{\n",
    "    class Program\n",
    "    {\n",
    "        static void Main(string[] args)\n",
    "        {\n",
    "            String str1 = \"Supercalifragilisticexpialidocious\";\n",
    "            String str2 = \"Honorificabilitudinitatibus\";\n",
    "            String str3 = \"Bababadalgharaghtakamminarronnkonn\";\n",
    "            int count1 = 0;\n",
    "            int count2 = 0;\n",
    "            int count3 = 0;//declaring three strings along with their respective counts\n",
    " \n",
    "            for (int i = 0; i < str1.Length; i++)\n",
    "            {\n",
    "                if (str1[i] != ' ')\n",
    "                    count1++;\n",
    "            }\n",
    "            for (int i = 0; i < str2.Length; i++)\n",
    "            {\n",
    "                if (str2[i] != ' ')\n",
    "                    count2++;\n",
    "            }\n",
    "            for (int i = 0; i < str3.Length; i++)\n",
    "            {\n",
    "                if (str3[i] != ' ')\n",
    "                    count3++;\n",
    "            }//finding lenght of all three strings are stored the int value into count\n",
    "            if (count1 > count2 && count1 > count3)//checking condition for the largest of three counts\n",
    "                Console.WriteLine($\"Out of three {str1} is Largest with {count1} characters\");\n",
    "            else if (count2 > count3 && count2 > count1)\n",
    "                Console.WriteLine($\"Out of three {str2} is Largest with {count2} characters\");\n",
    "            else\n",
    "                Console.WriteLine($\"Out of three {str3} is Largest with {count3} characters\");\n",
    "        }\n",
    "    }\n",
    "}\n",
    "\n",
    "Output:-\n",
    "![image.png](2coutput.png)"
   ]
  },
  {
   "cell_type": "markdown",
   "id": "6faf8c4f",
   "metadata": {},
   "source": [
    "# d. \n",
    "Which composer comes first in the dictionary: 'Berlioz', 'Borodin', 'Brian', 'Bartok', 'Bellini', 'Buxtehude', 'Bernstein'. Which one comes last?"
   ]
  },
  {
   "cell_type": "markdown",
   "id": "0e1fde63",
   "metadata": {},
   "source": [
    "using System;\n",
    "\n",
    "namespace BDAT_1004_Problem_Set_1\n",
    "{\n",
    "    class Program\n",
    "    {\n",
    "        static void Main(string[] args)\n",
    "        {\n",
    "            string[] words = new string[] {\"Berlioz\", \"Borodin\", \"Brian\", \"Bartok\", \"Bellini\", \"Buxtehude\", \"Bernstein\"};//creating array\n",
    "                Array.Sort(words);//sorting array\n",
    "            Console.WriteLine(\"The first member of the string is: \" + words.GetValue(0));//getting the first value after sorting via the .sort() function\n",
    "            Console.WriteLine(\"The last member of the string is: \" + words[^1]);//getting last value\n",
    "        }\n",
    "    }\n",
    "}\n",
    "\n",
    "Output:-\n",
    "![image.png](2doutput.png)"
   ]
  },
  {
   "cell_type": "markdown",
   "id": "103ce16d",
   "metadata": {},
   "source": [
    "# Question 3\n",
    "Implement function triangleArea(a,b,c) that takes as input the lengths of the 3 sides of a triangle and returns the area of the triangle. By Heron's formula, the area  of a triangle with side lengths a, b, and c is , where s=(a+b+c)/2 \n",
    ">>> triangleArea(2,2,2)\n",
    "1.7320508075688772"
   ]
  },
  {
   "cell_type": "markdown",
   "id": "69987d36",
   "metadata": {},
   "source": [
    "using System;\n",
    "\n",
    "namespace BDAT_1004_Problem_Set_1\n",
    "{\n",
    "    class Program\n",
    "    {\n",
    "        public void Trianglearea(double a, double b, double c)//declaring a function called Trianglearea\n",
    "        {\n",
    "            double  s, area;\n",
    "            s = (a + b + c) / 2;\n",
    "            area = Math.Sqrt(s * (s - a) * (s - b) * (s - c));//this allows the square root\n",
    "            Console.WriteLine($\"\\n Area of Triangle is {area}\");\n",
    "\n",
    "        }\n",
    "        static void Main(string[] args)\n",
    "        {\n",
    "            Console.WriteLine(\"Please Enter 1st side of triangle\\n\");\n",
    "            double x = Convert.ToDouble(Console.ReadLine());\n",
    "            Console.WriteLine(\"Please Enter 2nd side of triangle\\n\");\n",
    "            double y = Convert.ToDouble(Console.ReadLine());\n",
    "            Console.WriteLine(\"Please Enter 3rd side of triangle\\n\");\n",
    "            double z = Convert.ToDouble(Console.ReadLine());//taking input from user and converting it to double data type\n",
    "\n",
    "            Program area = new Program();//creating object\n",
    "            area.Trianglearea(x, y, z);//calling function\n",
    "        }\n",
    "    }\n",
    "}\n",
    "\n",
    "Output:-\n",
    "![image.png](3output.png)\n"
   ]
  },
  {
   "cell_type": "markdown",
   "id": "61f63118",
   "metadata": {},
   "source": [
    "# Question 4\n",
    "Write a program in C# Sharp to separate odd and even integers in separate arrays. Go to the editor\n",
    "Test Data :\n",
    "Input the number of elements to be stored in the array :5\n",
    "Input 5 elements in the array :\n",
    "element - 0 : 25\n",
    "element - 1 : 47\n",
    "element - 2 : 42\n",
    "element - 3 : 56\n",
    "element - 4 : 32\n",
    "Expected Output:\n",
    "The Even elements are:\n",
    "42 56 32\n",
    "The Odd elements are :\n",
    "25 47"
   ]
  },
  {
   "cell_type": "markdown",
   "id": "b0d3497d",
   "metadata": {},
   "source": [
    "using System;\n",
    "\n",
    "namespace BDAT_1004_Problem_Set_1\n",
    "{\n",
    "    class Program\n",
    "    {\n",
    "        static void Main(string[] args)\n",
    "        {\n",
    "            int[] arr1 = new int[10];\n",
    "            int[] arr2 = new int[10];\n",
    "            int[] arr3 = new int[10];\n",
    "            int i, j = 0, k = 0, n;//declaring variales and array\n",
    "\n",
    "            Console.WriteLine(\"Input the number of elements to be stored in the array :\");\n",
    "            n = Convert.ToInt32(Console.ReadLine());\n",
    "\n",
    "            Console.WriteLine(\"Input {0} elements in the array:\\n\", n);\n",
    "            for (i = 0; i < n; i++)\n",
    "            {\n",
    "                Console.WriteLine(\"element - {0} :\", i);\n",
    "                arr1[i] = Convert.ToInt32(Console.ReadLine());\n",
    "            }//storing each element taken from user into array number 1\n",
    "\n",
    "            for (i = 0; i < n; i++)\n",
    "            {\n",
    "                if (arr1[i] % 2 == 0)\n",
    "                {\n",
    "                    arr2[j] = arr1[i];\n",
    "                    j++;//checking if the element gives 0 remainder while dividing with 2\n",
    "                }//even elements are stored in array 2\n",
    "                else\n",
    "                {\n",
    "                    arr3[k] = arr1[i];\n",
    "                    k++;\n",
    "                }\n",
    "            }\n",
    "\n",
    "            Console.WriteLine(\"\\nThe Even elements are:\");\n",
    "            for (i = 0; i < j; i++)\n",
    "            {\n",
    "                Console.WriteLine(\"{0} \", arr2[i]);\n",
    "            }\n",
    "\n",
    "            Console.WriteLine(\"\\nThe Odd elements are:\");\n",
    "            for (i = 0; i < k; i++)\n",
    "            {\n",
    "                Console.WriteLine(\"{0} \", arr3[i]);//odd elements are stored in array 3\n",
    "            }\n",
    "        }\n",
    "    }\n",
    "}\n",
    "\n",
    "Output:-\n",
    "![image.png](4output.png)\n"
   ]
  },
  {
   "cell_type": "markdown",
   "id": "9bc966eb",
   "metadata": {},
   "source": [
    "# Question 5\n",
    "# a. \n",
    "Write a function inside(x,y,x1,y1,x2,y2) that returns True or False \n",
    "depending on whether the point (x,y) lies in the rectangle with lower left \n",
    "corner (x1,y1) and upper right corner (x2,y2).\n",
    ">>> inside(1,1,0,0,2,3)\n",
    "True\n",
    ">>> inside(-1,-1,0,0,2,3)\n",
    "False"
   ]
  },
  {
   "cell_type": "markdown",
   "id": "2dbed03d",
   "metadata": {},
   "source": [
    "using System;\n",
    "\n",
    "namespace BDAT_1004_Problem_Set_1\n",
    "{\n",
    "    class Program\n",
    "    {\n",
    "            static bool inside(int x1, int y1, int x2,\n",
    "                                  int y2, int x, int y)\n",
    "            {\n",
    "                if (x > x1 && x < x2 &&\n",
    "                    y > y1 && y < y2)//checking if the point lies in the rectangle\n",
    "                    return true;\n",
    "\n",
    "                return false;\n",
    "            }\n",
    "            static void Main(string[] args)\n",
    "        {\n",
    "            Console.Write(\"Enter X: \");\n",
    "            int x = Convert.ToInt32(Console.ReadLine());\n",
    "            Console.Write(\"Enter Y: \");\n",
    "            int y = Convert.ToInt32(Console.ReadLine());\n",
    "            Console.Write(\"Enter X1: \");\n",
    "            int x1 = Convert.ToInt32(Console.ReadLine());\n",
    "            Console.Write(\"Enter Y1: \");\n",
    "            int y1 = Convert.ToInt32(Console.ReadLine());\n",
    "            Console.Write(\"Enter X2: \");\n",
    "            int x2 = Convert.ToInt32(Console.ReadLine());\n",
    "            Console.Write(\"Enter Y2: \");\n",
    "            int y2 = Convert.ToInt32(Console.ReadLine());//getting input from user and converting it to integer\n",
    "\n",
    "            if (inside(x1, y1, x2, y2, x, y))//calling function\n",
    "                Console.Write(\"True\");\n",
    "            else\n",
    "                Console.Write(\"False\");\n",
    "        }\n",
    "    }\n",
    "}\n",
    "Output 5a:-\n",
    "![image.png](5aoutput.png)"
   ]
  },
  {
   "cell_type": "markdown",
   "id": "4e773ccd",
   "metadata": {},
   "source": [
    "# b.\n",
    "Use function inside() from part a. to write an expression that tests whether \n",
    "the point (1,1) lies in both of the following rectangles: one with lower left \n",
    "corner (0.3, 0.5) and upper right corner (1.1, 0.7) and the other with lower \n",
    "left corner (0.5, 0.2) and upper right corner (1.1, 2)."
   ]
  },
  {
   "cell_type": "markdown",
   "id": "d6333ed0",
   "metadata": {},
   "source": [
    "using System;\n",
    "\n",
    "namespace BDAT_1004_Problem_Set_1\n",
    "{\n",
    "    class Program\n",
    "    {\n",
    "            static bool inside(float x1, float y1, float x2,\n",
    "                                  float y2, float x, float y)\n",
    "            {\n",
    "                if (x > x1 && x < x2 &&\n",
    "                    y > y1 && y < y2)//checking if the point lies in the rectangle\n",
    "                    return true;\n",
    "\n",
    "                return false;\n",
    "            }\n",
    "            static void Main(string[] args)\n",
    "        {\n",
    "            Console.Write(\"Enter X: \");\n",
    "            float x = float.Parse(Console.ReadLine());\n",
    "            Console.Write(\"Enter Y: \");\n",
    "            float y = float.Parse(Console.ReadLine());\n",
    "            Console.Write(\"Enter X1: \");\n",
    "            float x1 = float.Parse(Console.ReadLine());\n",
    "            Console.Write(\"Enter Y1: \");\n",
    "            float y1 = float.Parse(Console.ReadLine());\n",
    "            Console.Write(\"Enter X2: \");\n",
    "            float x2 = float.Parse(Console.ReadLine());\n",
    "            Console.Write(\"Enter Y2: \");\n",
    "            float y2 = float.Parse(Console.ReadLine()); ;//getting input from user and converting it to float\n",
    "\n",
    "            if (inside(x1, y1, x2, y2, x, y))//calling function\n",
    "                Console.Write(\"True\");\n",
    "            else\n",
    "                Console.Write(\"False\");\n",
    "        }\n",
    "    }\n",
    "}\n",
    "Output b:-\n",
    "![image.png](5b-1.png)\n",
    "![image.png](5b-2.png)\n"
   ]
  },
  {
   "cell_type": "markdown",
   "id": "5d2e19aa",
   "metadata": {},
   "source": [
    " # Question 6\n",
    "You can turn a word into pig-Latin using the following two rules (simplified):\n",
    "• If the word starts with a consonant, move that letter to the end and append \n",
    "'ay'. For example, 'happy' becomes 'appyhay' and 'pencil' becomes 'encilpay'.\n",
    "• If the word starts with a vowel, simply append 'way' to the end of the word. \n",
    "For example, 'enter' becomes 'enterway' and 'other' becomes 'otherway' . For \n",
    "our purposes, there are 5 vowels: a, e, i, o, u (so we count y as a consonant).\n",
    "Write a function pig() that takes a word (i.e., a string) as input and returns its pig\u0002Latin form. Your function should still work if the input word contains upper case \n",
    "characters. Your output should always be lower case however. \n",
    ">>> pig('happy')\n",
    "'appyhay'\n",
    ">>> pig('Enter')\n",
    "'enterway"
   ]
  },
  {
   "cell_type": "code",
   "execution_count": 1,
   "id": "cd6e30d3",
   "metadata": {},
   "outputs": [
    {
     "name": "stdout",
     "output_type": "stream",
     "text": [
      "Enter the String:rafale\n",
      "afaleray\n"
     ]
    }
   ],
   "source": [
    "def isVowel(c):\n",
    "    return (c == 'A' or c == 'E' or c == 'I' or\n",
    "            c == 'O' or c == 'U' or c == 'a' or\n",
    "            c == 'e' or c == 'i' or c == 'o' or\n",
    "            c == 'u');\n",
    " #defining a function and returning it's value with upper as well as lower case\n",
    " \n",
    "def pigLatin(s):\n",
    " \n",
    "    # storing first word of index.\n",
    "    length = len(s);\n",
    "    index = -1;\n",
    "    for i in range(length):\n",
    "        if (isVowel(s[i])): #calling our vowel function\n",
    "            index = i;\n",
    "            break;\n",
    " #if no vowel present, return -1 in index\n",
    "    if (index == -1):\n",
    "        return \"-1\";\n",
    " \n",
    "    # Take all characters after index and append all characters which are before index and at lasy append \"ay\"\n",
    "    return s[index:] + s[0:index] + \"ay\"; \n",
    "str = pigLatin(input(\"Enter the String:\") );\n",
    "if (str == \"-1\"):\n",
    "    print(\"No vowels found. Pig Latin not possible\");\n",
    "else:\n",
    "    print(str);"
   ]
  },
  {
   "cell_type": "markdown",
   "id": "41c35aed",
   "metadata": {},
   "source": [
    "# Question 7\n",
    "File bloodtype1.txt records blood-types of patients (A, B, AB, O or OO) at a clinic. Write a function bldcount() that reads the file with name name and reports (i.e., prints) how many patients there are in each bloodtype.\n",
    ">>> bldcount('bloodtype.txt')\n",
    "There are 10 patients of blood type A.\n",
    "There is one patient of blood type B.\n",
    "There are 10 patients of blood type AB.\n",
    "There are 12 patients of blood type O.\n",
    "There are no patients of blood type OO."
   ]
  },
  {
   "cell_type": "code",
   "execution_count": 5,
   "id": "e34bd02f",
   "metadata": {},
   "outputs": [
    {
     "name": "stdout",
     "output_type": "stream",
     "text": [
      "There are 15 patients of blood type A.\n",
      "There is only one patient of blood type B.\n",
      "There are 13 patients of blood type AB.\n",
      "There are 15 patients of blood type O.\n",
      "Sorry! There are no patients of blood type OO.\n"
     ]
    }
   ],
   "source": [
    "def bldcount(str1):\n",
    "    with open(str1,'r') as file:\n",
    "        blood = file.read() # reading and storing the file in the variable blood\n",
    "        li = list(blood.split(\" \")) #using .split() function to store each char in the list li\n",
    "\n",
    "    if li.count(\"A\") == 1:\n",
    "        print(\"There is only one patient of blood type A.\")\n",
    "    elif li.count(\"A\") > 1:\n",
    "        print(\"There are \"+str(li.count(\"A\"))+\" patients of blood type A.\")\n",
    "    else:\n",
    "        print(\"Sorry! There are no patients of blood type A.\")\n",
    "\n",
    "    if li.count(\"B\") == 1:\n",
    "        print(\"There is only one patient of blood type B.\")\n",
    "    elif li.count(\"B\") > 1:\n",
    "        print(\"There are \"+str(li.count(\"B\"))+\" patients of blood type B.\")\n",
    "    else:\n",
    "        print(\"Sorry! There are no patients of blood type B.\")\n",
    "\n",
    "    if li.count(\"AB\") == 1:\n",
    "        print(\"There is only one patient of blood type AB.\")\n",
    "    elif li.count(\"AB\") > 1:\n",
    "        print(\"There are \"+str(li.count(\"AB\"))+\" patients of blood type AB.\")\n",
    "    else:\n",
    "        print(\"Sorry! There are no patients of blood type AB.\")\n",
    "\n",
    "    if li.count(\"O\") == 1:\n",
    "        print(\"There is only one patient of blood type O.\")\n",
    "    elif li.count(\"O\") > 1:\n",
    "        print(\"There are \"+str(li.count(\"O\"))+\" patients of blood type O.\")\n",
    "    else:\n",
    "        print(\"Sorry! There are no patients of blood type O.\")\n",
    "\n",
    "    if li.count(\"OO\") == 1:\n",
    "        print(\"There is only one patient of blood type OO.\")\n",
    "    elif li.count(\"OO\") > 1:\n",
    "        print(\"There are \"+str(li.count(\"OO\"))+\" patients of blood type OO.\")\n",
    "    else:\n",
    "        print(\"Sorry! There are no patients of blood type OO.\") #checking the conditions for 1 unit, no unit or number of units\n",
    "\n",
    "\n",
    "bldcount(\"bloodtype1.txt\");"
   ]
  },
  {
   "cell_type": "markdown",
   "id": "41dfa22e",
   "metadata": {},
   "source": [
    "# Question 8\n",
    "Write a function curconv() that takes as input:\n",
    "1. a currency represented using a string (e.g., 'JPY' for the Japanese Yen or \n",
    "'EUR' for the Euro)\n",
    "2. an amount\n",
    "and then converts and returns the amount in US dollars.\n",
    ">>> curconv('EUR', 100)\n",
    "122.96544\n",
    ">>> curconv('JPY', 100)\n",
    "1.241401\n",
    "The currency rates you will need are stored in file currencies.txt:"
   ]
  },
  {
   "cell_type": "code",
   "execution_count": 5,
   "id": "2a65af0f",
   "metadata": {},
   "outputs": [
    {
     "name": "stdout",
     "output_type": "stream",
     "text": [
      "enter the unit of currency: INR\n",
      "enter the amount: 6000\n",
      "106.5858\n"
     ]
    }
   ],
   "source": [
    "def curconv(name,money):\n",
    "    with open(\"currency.txt\") as file: #opening the text file as file\n",
    "        for num, line in enumerate(file, 1): #adding counter to iteration for line and num\n",
    "            if name in line: #checking the condition\n",
    "                moneydata=list(line.split()) #again using .split() function to store the data as list\n",
    "                print(float(money) * float(moneydata[1])) #conversion of currency according to input\n",
    "\n",
    "name = input(\"enter the unit of currency: \")\n",
    "money = input(\"enter the amount: \")\n",
    "\n",
    "curconv(name,money)"
   ]
  },
  {
   "cell_type": "markdown",
   "id": "765a67c4",
   "metadata": {},
   "source": [
    "# Question 9\n",
    "Each of the following will cause an exception (an error). Identify what type of \n",
    "exception each will cause."
   ]
  },
  {
   "cell_type": "markdown",
   "id": "c0937546",
   "metadata": {},
   "source": [
    "| Cause                                                                                                            | Type of Error/Exception    |\n",
    "|:-----------------------------------------                                                                        |-----------------:|\n",
    "| Trying to add incompatible variables, as in adding 6 + ‘a’                                                       |TypeError|\n",
    "| Referring to the 12th item of a list that has only 10 items                                                      |Index out of Range|\n",
    "| Using a value that is out of range for a function’s input, such as calling math.sqrt(-1.0)                       |ValueError|\n",
    "| Using an undeclared variable, such as print(x) when x has not been defined'                                      |NameError|       \n",
    "| Trying to open a file that does not exist, such as mistyping the file name or looking in the wrong directory.    |FileNotFound|"
   ]
  },
  {
   "cell_type": "markdown",
   "id": "0bfb52aa",
   "metadata": {},
   "source": [
    "# Question 10\n",
    "Encryption is the process of hiding the meaning of a text by substituting letters in the message with other letters, according to some system. If the process is successful, no one but the intended recipient can understand the encrypted message. Cryptanalysis refers to attempts to undo the encryption, even if some details of the encryption are unknown (for example, if an encrypted message has been intercepted). The first step of cryptanalysis is often to build up a table of letter frequencies in the encrypted text. Assume that the string letters is already defined as 'abcdefghijklmnopqrstuvwxyz'. Write a function called frequencies() that takes a string as its only parameter, and returns a list of integers, showing the number of times each character appears in the text. Your function may ignore any characters that are not in letters. \n",
    ">>> frequencies('The quick red fox got bored and went home.')\n",
    "[1, 1, 1, 3, 5, 1, 1, 2, 1, 0, 1, 0, 1, 2, 4, 0, 1, 2, 0, 2, \n",
    "1, 0, 1, 1, 0, 0]\n",
    ">>> frequencies('apple')"
   ]
  },
  {
   "cell_type": "code",
   "execution_count": 6,
   "id": "2d24069d",
   "metadata": {},
   "outputs": [
    {
     "name": "stdout",
     "output_type": "stream",
     "text": [
      "Enter your string\n",
      "The quick red fox got bored and went home\n",
      "[1, 1, 1, 3, 5, 1, 1, 2, 1, 0, 1, 0, 1, 3, 4, 0, 1, 2, 0, 2, 1, 0, 1, 1, 0, 0]\n"
     ]
    }
   ],
   "source": [
    "string = input(\"Enter your string\\n\") #user input\n",
    "\n",
    "def frequencies(string):\n",
    "    s=''.join(e for e in string if e.isalnum()) #removing all spaces and joining all the characters\n",
    "    freq = [0 for _ in range(26)] #checking for alphabetical ranges and storing it in freq\n",
    "    for c in s:\n",
    "        freq[ord(c) - ord('a')] += 1 #accepting string as an argument and returning it's unicode\n",
    "    print(freq)\n",
    "\n",
    "frequencies(string)"
   ]
  },
  {
   "cell_type": "code",
   "execution_count": null,
   "id": "6b896aa1",
   "metadata": {},
   "outputs": [],
   "source": []
  }
 ],
 "metadata": {
  "kernelspec": {
   "display_name": "Python 3",
   "language": "python",
   "name": "python3"
  },
  "language_info": {
   "codemirror_mode": {
    "name": "ipython",
    "version": 3
   },
   "file_extension": ".py",
   "mimetype": "text/x-python",
   "name": "python",
   "nbconvert_exporter": "python",
   "pygments_lexer": "ipython3",
   "version": "3.8.8"
  }
 },
 "nbformat": 4,
 "nbformat_minor": 5
}
